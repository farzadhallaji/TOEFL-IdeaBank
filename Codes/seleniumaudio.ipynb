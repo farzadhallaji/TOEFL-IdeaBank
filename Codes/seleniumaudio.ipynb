{
 "cells": [
  {
   "cell_type": "code",
   "execution_count": 3,
   "metadata": {},
   "outputs": [
    {
     "name": "stdout",
     "output_type": "stream",
     "text": [
      "Collecting webdriver-manager\n",
      "  Using cached webdriver_manager-4.0.1-py2.py3-none-any.whl.metadata (12 kB)\n",
      "Requirement already satisfied: requests in /home/ri/anaconda3/envs/tfl/lib/python3.9/site-packages (from webdriver-manager) (2.31.0)\n",
      "Requirement already satisfied: python-dotenv in /home/ri/anaconda3/envs/tfl/lib/python3.9/site-packages (from webdriver-manager) (1.0.1)\n",
      "Requirement already satisfied: packaging in /home/ri/anaconda3/envs/tfl/lib/python3.9/site-packages (from webdriver-manager) (23.2)\n",
      "Requirement already satisfied: charset-normalizer<4,>=2 in /home/ri/anaconda3/envs/tfl/lib/python3.9/site-packages (from requests->webdriver-manager) (2.0.4)\n",
      "Requirement already satisfied: idna<4,>=2.5 in /home/ri/anaconda3/envs/tfl/lib/python3.9/site-packages (from requests->webdriver-manager) (3.7)\n",
      "Requirement already satisfied: urllib3<3,>=1.21.1 in /home/ri/anaconda3/envs/tfl/lib/python3.9/site-packages (from requests->webdriver-manager) (1.26.18)\n",
      "Requirement already satisfied: certifi>=2017.4.17 in /home/ri/anaconda3/envs/tfl/lib/python3.9/site-packages (from requests->webdriver-manager) (2024.2.2)\n",
      "Using cached webdriver_manager-4.0.1-py2.py3-none-any.whl (27 kB)\n",
      "Installing collected packages: webdriver-manager\n",
      "Successfully installed webdriver-manager-4.0.1\n"
     ]
    }
   ],
   "source": [
    "!pip install webdriver-manager\n"
   ]
  },
  {
   "cell_type": "code",
   "execution_count": 4,
   "metadata": {},
   "outputs": [],
   "source": [
    "from selenium import webdriver\n",
    "from selenium.webdriver.chrome.service import Service\n",
    "from webdriver_manager.chrome import ChromeDriverManager\n",
    "import time\n",
    "\n",
    "# Setup WebDriver using WebDriver Manager\n",
    "service = Service(ChromeDriverManager().install())\n",
    "options = webdriver.ChromeOptions()\n",
    "driver = webdriver.Chrome(service=service, options=options)\n",
    "\n",
    "# Open the HTML file\n",
    "driver.get(\"https://www.naturalreaders.com/online/\")  # Update this path\n",
    "\n",
    "# JavaScript to capture and download audio\n",
    "js_code = \"\"\"\n",
    "async function startRecording() {\n",
    "    const stream = await navigator.mediaDevices.getUserMedia({ audio: true });\n",
    "    const mediaRecorder = new MediaRecorder(stream);\n",
    "    let audioChunks = [];\n",
    "\n",
    "    mediaRecorder.ondataavailable = event => {\n",
    "        audioChunks.push(event.data);\n",
    "    };\n",
    "\n",
    "    mediaRecorder.onstop = async () => {\n",
    "        const audioBlob = new Blob(audioChunks, { type: 'audio/wav' });\n",
    "        const audioUrl = URL.createObjectURL(audioBlob);\n",
    "        const a = document.createElement('a');\n",
    "        a.style.display = 'none';\n",
    "        a.href = audioUrl;\n",
    "        a.download = 'audio.wav';\n",
    "        document.body.appendChild(a);\n",
    "        a.click();\n",
    "        window.URL.revokeObjectURL(audioUrl);\n",
    "    };\n",
    "\n",
    "    mediaRecorder.start();\n",
    "    console.log('Recording started');\n",
    "\n",
    "    setTimeout(() => {\n",
    "        mediaRecorder.stop();\n",
    "        console.log('Recording stopped');\n",
    "    }, 10000); // Record for 10 seconds\n",
    "}\n",
    "\n",
    "startRecording();\n",
    "\"\"\"\n"
   ]
  },
  {
   "cell_type": "code",
   "execution_count": null,
   "metadata": {},
   "outputs": [],
   "source": [
    "\n",
    "# Inject the JavaScript code into the webpage\n",
    "driver.execute_script(js_code)\n",
    "\n",
    "# Wait for the recording to complete and download to finish\n",
    "time.sleep(15)\n",
    "\n",
    "# Close the browser\n",
    "driver.quit()\n",
    "\n",
    "# Open the HTML file\n"
   ]
  }
 ],
 "metadata": {
  "kernelspec": {
   "display_name": "tfl",
   "language": "python",
   "name": "python3"
  },
  "language_info": {
   "codemirror_mode": {
    "name": "ipython",
    "version": 3
   },
   "file_extension": ".py",
   "mimetype": "text/x-python",
   "name": "python",
   "nbconvert_exporter": "python",
   "pygments_lexer": "ipython3",
   "version": "3.9.19"
  }
 },
 "nbformat": 4,
 "nbformat_minor": 2
}
